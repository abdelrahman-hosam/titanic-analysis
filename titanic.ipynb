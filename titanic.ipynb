{
 "cells": [
  {
   "cell_type": "markdown",
   "id": "aed481fb",
   "metadata": {},
   "source": [
    "# Exploring and preprocessing"
   ]
  },
  {
   "cell_type": "code",
   "execution_count": null,
   "id": "0acd79c8",
   "metadata": {},
   "outputs": [
    {
     "data": {
      "text/html": [
       "<div>\n",
       "<style scoped>\n",
       "    .dataframe tbody tr th:only-of-type {\n",
       "        vertical-align: middle;\n",
       "    }\n",
       "\n",
       "    .dataframe tbody tr th {\n",
       "        vertical-align: top;\n",
       "    }\n",
       "\n",
       "    .dataframe thead th {\n",
       "        text-align: right;\n",
       "    }\n",
       "</style>\n",
       "<table border=\"1\" class=\"dataframe\">\n",
       "  <thead>\n",
       "    <tr style=\"text-align: right;\">\n",
       "      <th></th>\n",
       "      <th>PassengerId</th>\n",
       "      <th>Survived</th>\n",
       "      <th>Pclass</th>\n",
       "      <th>Name</th>\n",
       "      <th>Sex</th>\n",
       "      <th>Age</th>\n",
       "      <th>SibSp</th>\n",
       "      <th>Parch</th>\n",
       "      <th>Ticket</th>\n",
       "      <th>Fare</th>\n",
       "      <th>Cabin</th>\n",
       "      <th>Embarked</th>\n",
       "    </tr>\n",
       "  </thead>\n",
       "  <tbody>\n",
       "    <tr>\n",
       "      <th>0</th>\n",
       "      <td>1</td>\n",
       "      <td>0</td>\n",
       "      <td>3</td>\n",
       "      <td>Braund, Mr. Owen Harris</td>\n",
       "      <td>male</td>\n",
       "      <td>22.0</td>\n",
       "      <td>1</td>\n",
       "      <td>0</td>\n",
       "      <td>A/5 21171</td>\n",
       "      <td>7.2500</td>\n",
       "      <td>NaN</td>\n",
       "      <td>S</td>\n",
       "    </tr>\n",
       "    <tr>\n",
       "      <th>1</th>\n",
       "      <td>2</td>\n",
       "      <td>1</td>\n",
       "      <td>1</td>\n",
       "      <td>Cumings, Mrs. John Bradley (Florence Briggs Th...</td>\n",
       "      <td>female</td>\n",
       "      <td>38.0</td>\n",
       "      <td>1</td>\n",
       "      <td>0</td>\n",
       "      <td>PC 17599</td>\n",
       "      <td>71.2833</td>\n",
       "      <td>C85</td>\n",
       "      <td>C</td>\n",
       "    </tr>\n",
       "    <tr>\n",
       "      <th>2</th>\n",
       "      <td>3</td>\n",
       "      <td>1</td>\n",
       "      <td>3</td>\n",
       "      <td>Heikkinen, Miss. Laina</td>\n",
       "      <td>female</td>\n",
       "      <td>26.0</td>\n",
       "      <td>0</td>\n",
       "      <td>0</td>\n",
       "      <td>STON/O2. 3101282</td>\n",
       "      <td>7.9250</td>\n",
       "      <td>NaN</td>\n",
       "      <td>S</td>\n",
       "    </tr>\n",
       "    <tr>\n",
       "      <th>3</th>\n",
       "      <td>4</td>\n",
       "      <td>1</td>\n",
       "      <td>1</td>\n",
       "      <td>Futrelle, Mrs. Jacques Heath (Lily May Peel)</td>\n",
       "      <td>female</td>\n",
       "      <td>35.0</td>\n",
       "      <td>1</td>\n",
       "      <td>0</td>\n",
       "      <td>113803</td>\n",
       "      <td>53.1000</td>\n",
       "      <td>C123</td>\n",
       "      <td>S</td>\n",
       "    </tr>\n",
       "    <tr>\n",
       "      <th>4</th>\n",
       "      <td>5</td>\n",
       "      <td>0</td>\n",
       "      <td>3</td>\n",
       "      <td>Allen, Mr. William Henry</td>\n",
       "      <td>male</td>\n",
       "      <td>35.0</td>\n",
       "      <td>0</td>\n",
       "      <td>0</td>\n",
       "      <td>373450</td>\n",
       "      <td>8.0500</td>\n",
       "      <td>NaN</td>\n",
       "      <td>S</td>\n",
       "    </tr>\n",
       "  </tbody>\n",
       "</table>\n",
       "</div>"
      ],
      "text/plain": [
       "   PassengerId  Survived  Pclass  \\\n",
       "0            1         0       3   \n",
       "1            2         1       1   \n",
       "2            3         1       3   \n",
       "3            4         1       1   \n",
       "4            5         0       3   \n",
       "\n",
       "                                                Name     Sex   Age  SibSp  \\\n",
       "0                            Braund, Mr. Owen Harris    male  22.0      1   \n",
       "1  Cumings, Mrs. John Bradley (Florence Briggs Th...  female  38.0      1   \n",
       "2                             Heikkinen, Miss. Laina  female  26.0      0   \n",
       "3       Futrelle, Mrs. Jacques Heath (Lily May Peel)  female  35.0      1   \n",
       "4                           Allen, Mr. William Henry    male  35.0      0   \n",
       "\n",
       "   Parch            Ticket     Fare Cabin Embarked  \n",
       "0      0         A/5 21171   7.2500   NaN        S  \n",
       "1      0          PC 17599  71.2833   C85        C  \n",
       "2      0  STON/O2. 3101282   7.9250   NaN        S  \n",
       "3      0            113803  53.1000  C123        S  \n",
       "4      0            373450   8.0500   NaN        S  "
      ]
     },
     "execution_count": 1,
     "metadata": {},
     "output_type": "execute_result"
    }
   ],
   "source": [
    "import seaborn as sns\n",
    "import pandas as pd\n",
    "import matplotlib.pyplot as plt\n",
    "\n",
    "titanic = pd.read_csv('./train.csv')\n",
    "titanic.head()"
   ]
  },
  {
   "cell_type": "code",
   "execution_count": 2,
   "id": "5ab5d5b7",
   "metadata": {},
   "outputs": [
    {
     "name": "stdout",
     "output_type": "stream",
     "text": [
      "<class 'pandas.core.frame.DataFrame'>\n",
      "RangeIndex: 891 entries, 0 to 890\n",
      "Data columns (total 12 columns):\n",
      " #   Column       Non-Null Count  Dtype  \n",
      "---  ------       --------------  -----  \n",
      " 0   PassengerId  891 non-null    int64  \n",
      " 1   Survived     891 non-null    int64  \n",
      " 2   Pclass       891 non-null    int64  \n",
      " 3   Name         891 non-null    object \n",
      " 4   Sex          891 non-null    object \n",
      " 5   Age          714 non-null    float64\n",
      " 6   SibSp        891 non-null    int64  \n",
      " 7   Parch        891 non-null    int64  \n",
      " 8   Ticket       891 non-null    object \n",
      " 9   Fare         891 non-null    float64\n",
      " 10  Cabin        204 non-null    object \n",
      " 11  Embarked     889 non-null    object \n",
      "dtypes: float64(2), int64(5), object(5)\n",
      "memory usage: 83.7+ KB\n"
     ]
    }
   ],
   "source": [
    "titanic.info()"
   ]
  },
  {
   "cell_type": "code",
   "execution_count": 3,
   "id": "2dda373e",
   "metadata": {},
   "outputs": [
    {
     "name": "stdout",
     "output_type": "stream",
     "text": [
      "<class 'pandas.core.frame.DataFrame'>\n",
      "RangeIndex: 891 entries, 0 to 890\n",
      "Data columns (total 11 columns):\n",
      " #   Column       Non-Null Count  Dtype  \n",
      "---  ------       --------------  -----  \n",
      " 0   PassengerId  891 non-null    int64  \n",
      " 1   Survived     891 non-null    int64  \n",
      " 2   Pclass       891 non-null    int64  \n",
      " 3   Name         891 non-null    object \n",
      " 4   Sex          891 non-null    object \n",
      " 5   Age          714 non-null    float64\n",
      " 6   SibSp        891 non-null    int64  \n",
      " 7   Parch        891 non-null    int64  \n",
      " 8   Ticket       891 non-null    object \n",
      " 9   Fare         891 non-null    float64\n",
      " 10  Embarked     891 non-null    object \n",
      "dtypes: float64(2), int64(5), object(4)\n",
      "memory usage: 76.7+ KB\n"
     ]
    }
   ],
   "source": [
    "titanic = titanic.drop('Cabin', axis= 1)\n",
    "#Too much NA values to be handled in a proper way that does not affect the data integrity\n",
    "titanic['Embarked'] = titanic[['Embarked']].fillna(titanic['Embarked'].mode()[0])\n",
    "#fill values with mode\n",
    "titanic.info()"
   ]
  },
  {
   "cell_type": "markdown",
   "id": "c672ce5f",
   "metadata": {},
   "source": [
    "# How does sex affect the survival rate?"
   ]
  },
  {
   "cell_type": "code",
   "execution_count": 4,
   "id": "c7c28925",
   "metadata": {},
   "outputs": [
    {
     "data": {
      "text/plain": [
       "19.0"
      ]
     },
     "execution_count": 4,
     "metadata": {},
     "output_type": "execute_result"
    }
   ],
   "source": [
    "male_survivors_rate = round(titanic[(titanic['Sex'] == 'male') & titanic['Survived'] == 1].shape[0] / titanic[titanic['Sex'] == 'male'].shape[0], 2)\n",
    "male_survivors_rate * 100"
   ]
  },
  {
   "cell_type": "code",
   "execution_count": 5,
   "id": "285a3281",
   "metadata": {},
   "outputs": [
    {
     "data": {
      "text/plain": [
       "74.0"
      ]
     },
     "execution_count": 5,
     "metadata": {},
     "output_type": "execute_result"
    }
   ],
   "source": [
    "female_survivors_rate = round(titanic[(titanic['Sex'] == 'female') & titanic['Survived'] == 1].shape[0] / titanic[titanic['Sex'] == 'female'].shape[0], 2)\n",
    "female_survivors_rate * 100"
   ]
  },
  {
   "cell_type": "code",
   "execution_count": 6,
   "id": "c3afee6f",
   "metadata": {},
   "outputs": [
    {
     "data": {
      "image/png": "[encoded data removed]",
      "text/plain": [
       "<Figure size 640x480 with 1 Axes>"
      ]
     },
     "metadata": {},
     "output_type": "display_data"
    }
   ],
   "source": [
    "females_survivors = titanic[(titanic['Sex'] == 'female') & titanic['Survived'] == 1].shape[0]\n",
    "male_survivors = titanic[(titanic['Sex'] == 'male') & titanic['Survived'] == 1].shape[0]\n",
    "plt.bar(['Male','Female'], [male_survivors, females_survivors], color = ['skyblue', 'purple'])\n",
    "plt.title('Number of male and female survivors')\n",
    "plt.show()"
   ]
  },
  {
   "cell_type": "markdown",
   "id": "96acd366",
   "metadata": {},
   "source": [
    "### A final thought is that sex affect the survival rate too much as the difference between the ratio of males that survived and the ratio of females is obvious"
   ]
  },
  {
   "cell_type": "markdown",
   "id": "6e3df98c",
   "metadata": {},
   "source": [
    "# Does the age affect the survival rate?"
   ]
  },
  {
   "cell_type": "code",
   "execution_count": 7,
   "id": "98cece93",
   "metadata": {},
   "outputs": [
    {
     "data": {
      "image/png": "[encoded data removed]",
      "text/plain": [
       "<Figure size 640x480 with 1 Axes>"
      ]
     },
     "metadata": {},
     "output_type": "display_data"
    }
   ],
   "source": [
    "age_and_survival = titanic[titanic['Survived'] == 1].dropna(subset= 'Age')\n",
    "# NUMBERS THAT HAS NO VALUES ARE DROPPED HERE USING THE DROPNA FUNCTION IN THE PREV LINE \n",
    "sns.stripplot(x= age_and_survival['Age'], jitter= True)\n",
    "plt.title('Age of survivors distribution')\n",
    "plt.show()"
   ]
  },
  {
   "cell_type": "code",
   "execution_count": 8,
   "id": "74dc7a90",
   "metadata": {},
   "outputs": [
    {
     "data": {
      "image/png": "[encoded data removed]",
      "text/plain": [
       "<Figure size 640x480 with 1 Axes>"
      ]
     },
     "metadata": {},
     "output_type": "display_data"
    }
   ],
   "source": [
    "sns.boxplot(data= age_and_survival , x= 'Age')\n",
    "plt.title('Age of survivors distribution')\n",
    "plt.show()"
   ]
  },
  {
   "cell_type": "code",
   "execution_count": 9,
   "id": "b4f671d4",
   "metadata": {},
   "outputs": [
    {
     "data": {
      "text/plain": [
       "22.727272727272727"
      ]
     },
     "execution_count": 9,
     "metadata": {},
     "output_type": "execute_result"
    }
   ],
   "source": [
    "morethan_60_ratio = age_and_survival[age_and_survival['Age'] > 60].shape[0]/titanic[titanic['Age'] > 60].shape[0]\n",
    "morethan_60_ratio * 100"
   ]
  },
  {
   "cell_type": "code",
   "execution_count": 10,
   "id": "8e7df18c",
   "metadata": {},
   "outputs": [
    {
     "data": {
      "text/plain": [
       "38.759689922480625"
      ]
     },
     "execution_count": 10,
     "metadata": {},
     "output_type": "execute_result"
    }
   ],
   "source": [
    "biggest_ratio_assumed = age_and_survival[(age_and_survival['Age'] >= 20) & (age_and_survival['Age'] < 40)].shape[0]/titanic[(titanic['Age'] >= 20) & (titanic['Age'] < 40)].shape[0]\n",
    "biggest_ratio_assumed * 100"
   ]
  },
  {
   "cell_type": "code",
   "execution_count": 11,
   "id": "4a621b4f",
   "metadata": {},
   "outputs": [
    {
     "data": {
      "text/plain": [
       "48.170731707317074"
      ]
     },
     "execution_count": 11,
     "metadata": {},
     "output_type": "execute_result"
    }
   ],
   "source": [
    "mid_ratio_assumed = age_and_survival[age_and_survival['Age'] < 20].shape[0]/titanic[titanic['Age'] < 20].shape[0]\n",
    "mid_ratio_assumed * 100"
   ]
  },
  {
   "cell_type": "code",
   "execution_count": 12,
   "id": "cceda7f0",
   "metadata": {},
   "outputs": [
    {
     "data": {
      "text/plain": [
       "39.416058394160586"
      ]
     },
     "execution_count": 12,
     "metadata": {},
     "output_type": "execute_result"
    }
   ],
   "source": [
    "survival_ratio = age_and_survival[(age_and_survival['Age'] >= 40) & (age_and_survival['Age'] < 60)].shape[0]/titanic[(titanic['Age'] >= 40) & (titanic['Age'] < 60)].shape[0]\n",
    "survival_ratio * 100"
   ]
  },
  {
   "cell_type": "markdown",
   "id": "a22c3560",
   "metadata": {},
   "source": [
    "### From what we can see the people with age from 20 to late 30s had the bigger survival numbers but the bigger survival rates are for the people less than 20 years old while people from 40 to 59 comes after them people from 20s to late 30s comes after them and people older than 60 has the lowest rate"
   ]
  },
  {
   "cell_type": "markdown",
   "id": "689c9a71",
   "metadata": {},
   "source": [
    "# Does the pclass affect the survival rate?"
   ]
  },
  {
   "cell_type": "code",
   "execution_count": 13,
   "id": "a7d8168d",
   "metadata": {},
   "outputs": [
    {
     "data": {
      "text/plain": [
       "array([3, 1, 2])"
      ]
     },
     "execution_count": 13,
     "metadata": {},
     "output_type": "execute_result"
    }
   ],
   "source": [
    "pclass= titanic[['Survived' , 'Pclass']]\n",
    "pclass_vals= pclass['Pclass'].unique()\n",
    "pclass_vals"
   ]
  },
  {
   "cell_type": "code",
   "execution_count": 14,
   "id": "6516693f",
   "metadata": {},
   "outputs": [
    {
     "data": {
      "text/plain": [
       "Pclass  Survived\n",
       "1       1           0.629630\n",
       "        0           0.370370\n",
       "2       0           0.527174\n",
       "        1           0.472826\n",
       "3       0           0.757637\n",
       "        1           0.242363\n",
       "Name: proportion, dtype: float64"
      ]
     },
     "execution_count": 14,
     "metadata": {},
     "output_type": "execute_result"
    }
   ],
   "source": [
    "pclass_and_survivors = pclass.groupby(by= 'Pclass')['Survived']\n",
    "pclass_and_survivors_rates = pclass_and_survivors.value_counts(normalize= True)\n",
    "pclass_and_survivors_rates\n"
   ]
  },
  {
   "cell_type": "code",
   "execution_count": 15,
   "id": "4c5c8fff",
   "metadata": {},
   "outputs": [
    {
     "data": {
      "text/plain": [
       "<matplotlib.legend.Legend at 0x1c4f5326510>"
      ]
     },
     "execution_count": 15,
     "metadata": {},
     "output_type": "execute_result"
    },
    {
     "data": {
      "image/png": "[encoded data removed]",
      "text/plain": [
       "<Figure size 640x480 with 1 Axes>"
      ]
     },
     "metadata": {},
     "output_type": "display_data"
    }
   ],
   "source": [
    "survival_vals = pclass_and_survivors.value_counts()\n",
    "survival_vals.plot(kind= 'bar' , stacked= False)\n",
    "plt.title('Each Pclass with survival and unsurvival counts')\n",
    "plt.ylabel('counts')\n",
    "plt.legend(title= 'Survived')"
   ]
  },
  {
   "cell_type": "markdown",
   "id": "54854ba1",
   "metadata": {},
   "source": [
    "### pclass 3 had the lowest number of survivors 24% while the pclass 1 had the highest number of survivors 63% (being in pclass 3 makes the unsurvival rate too big)"
   ]
  },
  {
   "cell_type": "markdown",
   "id": "31c7e5c8",
   "metadata": {},
   "source": [
    "# Fares and survival ratios"
   ]
  },
  {
   "cell_type": "code",
   "execution_count": 16,
   "id": "36eb28b5",
   "metadata": {},
   "outputs": [
    {
     "data": {
      "image/png": "[encoded data removed]",
      "text/plain": [
       "<Figure size 640x480 with 1 Axes>"
      ]
     },
     "metadata": {},
     "output_type": "display_data"
    }
   ],
   "source": [
    "fares_and_survived = titanic[titanic['Survived'] == 1][['Fare', 'Survived']].dropna(subset=['Fare'])\n",
    "sns.stripplot(x= fares_and_survived['Fare'], jitter= True)\n",
    "plt.show()"
   ]
  },
  {
   "cell_type": "code",
   "execution_count": 17,
   "id": "8733c190",
   "metadata": {},
   "outputs": [
    {
     "data": {
      "image/png": "[encoded data removed]",
      "text/plain": [
       "<Figure size 640x480 with 1 Axes>"
      ]
     },
     "metadata": {},
     "output_type": "display_data"
    }
   ],
   "source": [
    "fares_and_unsurvived= titanic[titanic['Survived'] == 0][['Fare', 'Survived']].dropna(subset=['Fare'])\n",
    "sns.stripplot(x= fares_and_unsurvived['Fare'], jitter= True)\n",
    "plt.show()"
   ]
  },
  {
   "cell_type": "code",
   "execution_count": 18,
   "id": "a26b213e",
   "metadata": {},
   "outputs": [
    {
     "data": {
      "text/plain": [
       "<Axes: >"
      ]
     },
     "execution_count": 18,
     "metadata": {},
     "output_type": "execute_result"
    },
    {
     "data": {
      "image/png": "[encoded data removed]",
      "text/plain": [
       "<Figure size 640x480 with 1 Axes>"
      ]
     },
     "metadata": {},
     "output_type": "display_data"
    }
   ],
   "source": [
    "fares_and_survived['Fare'].hist(bins= 5, color= 'Blue')\n",
    "fares_and_unsurvived['Fare'].hist(bins= 5, alpha= 0.5, color= 'Red')"
   ]
  },
  {
   "cell_type": "markdown",
   "id": "26f5555a",
   "metadata": {},
   "source": [
    "### The fares are more likely to have a weak relationship with the survival rate"
   ]
  },
  {
   "cell_type": "markdown",
   "id": "57f103d1",
   "metadata": {},
   "source": [
    "# How many survived"
   ]
  },
  {
   "cell_type": "code",
   "execution_count": 19,
   "id": "1224a9c3",
   "metadata": {},
   "outputs": [
    {
     "name": "stdout",
     "output_type": "stream",
     "text": [
      "342 38.0\n"
     ]
    }
   ],
   "source": [
    "people_survived_number= titanic[titanic['Survived'] == 1].shape[0]\n",
    "people_survived_ratio = round(titanic[titanic['Survived'] == 1].shape[0] / titanic.shape[0], 2) * 100\n",
    "print(people_survived_number, people_survived_ratio)\n"
   ]
  },
  {
   "cell_type": "markdown",
   "id": "71e21181",
   "metadata": {},
   "source": [
    "# embarked and survival ratio"
   ]
  },
  {
   "cell_type": "code",
   "execution_count": 20,
   "id": "27d19fd4",
   "metadata": {},
   "outputs": [
    {
     "data": {
      "text/plain": [
       "['S', 'C', 'Q']"
      ]
     },
     "execution_count": 20,
     "metadata": {},
     "output_type": "execute_result"
    }
   ],
   "source": [
    "embarked_vals= titanic['Embarked'].dropna().unique().tolist()\n",
    "embarked_vals"
   ]
  },
  {
   "cell_type": "code",
   "execution_count": 21,
   "id": "5eba5328",
   "metadata": {},
   "outputs": [
    {
     "data": {
      "text/plain": [
       "64.0"
      ]
     },
     "execution_count": 21,
     "metadata": {},
     "output_type": "execute_result"
    }
   ],
   "source": [
    "embarked_ratios = {}\n",
    "survived = titanic[titanic['Survived'] == 1].fillna(titanic['Embarked'].mode())\n",
    "# THE EMBARKED HAS ONLY 2 MISSING VALUES FROM 891 SO FILLING THOSE VALUES WITH THE MODE WILL DO THE JOB WITHOUT LOWERING THE DATA INTEGRITY\n",
    "S_ratio = round(survived[survived['Embarked'] == embarked_vals[0]].shape[0] / survived.shape[0], 2) * 100\n",
    "embarked_ratios[embarked_vals[0]] = S_ratio\n",
    "S_ratio"
   ]
  },
  {
   "cell_type": "code",
   "execution_count": 22,
   "id": "56eae6e2",
   "metadata": {},
   "outputs": [
    {
     "data": {
      "text/plain": [
       "27.0"
      ]
     },
     "execution_count": 22,
     "metadata": {},
     "output_type": "execute_result"
    }
   ],
   "source": [
    "C_ratio = round(survived[survived['Embarked'] == embarked_vals[1]].shape[0] / survived.shape[0], 2) * 100\n",
    "embarked_ratios[embarked_vals[1]] = C_ratio\n",
    "C_ratio"
   ]
  },
  {
   "cell_type": "code",
   "execution_count": 23,
   "id": "f9395f5c",
   "metadata": {},
   "outputs": [
    {
     "data": {
      "text/plain": [
       "9.0"
      ]
     },
     "execution_count": 23,
     "metadata": {},
     "output_type": "execute_result"
    }
   ],
   "source": [
    "Q_ratio = round(survived[survived['Embarked'] == embarked_vals[2]].shape[0] / survived.shape[0], 2) * 100\n",
    "embarked_ratios[embarked_vals[2]] = Q_ratio\n",
    "Q_ratio"
   ]
  },
  {
   "cell_type": "code",
   "execution_count": 24,
   "id": "17f1bfeb",
   "metadata": {},
   "outputs": [
    {
     "name": "stdout",
     "output_type": "stream",
     "text": [
      "{'S': 64.0, 'C': 27.0, 'Q': 9.0}\n"
     ]
    }
   ],
   "source": [
    "print(embarked_ratios)"
   ]
  },
  {
   "cell_type": "markdown",
   "id": "f1229c6c",
   "metadata": {},
   "source": [
    "### Higher chances got to the S embarked value"
   ]
  },
  {
   "cell_type": "markdown",
   "id": "c839f3dd",
   "metadata": {},
   "source": [
    "# Encoding splitting and dropping irrelevant columns"
   ]
  },
  {
   "cell_type": "code",
   "execution_count": 25,
   "id": "11553b54",
   "metadata": {},
   "outputs": [
    {
     "data": {
      "text/plain": [
       "0     0\n",
       "1     1\n",
       "2     1\n",
       "3     1\n",
       "4     0\n",
       "5     0\n",
       "6     0\n",
       "7     0\n",
       "8     1\n",
       "9     1\n",
       "10    1\n",
       "11    1\n",
       "12    0\n",
       "13    0\n",
       "14    1\n",
       "Name: Sex, dtype: int64"
      ]
     },
     "execution_count": 25,
     "metadata": {},
     "output_type": "execute_result"
    }
   ],
   "source": [
    "titanic['Sex'] = titanic['Sex'].apply(lambda sex: 0 if sex == 'male' else 1)\n",
    "titanic['Sex'].head(15)\n",
    "#encoding sex"
   ]
  },
  {
   "cell_type": "code",
   "execution_count": 26,
   "id": "baa3b3f8",
   "metadata": {},
   "outputs": [
    {
     "name": "stdout",
     "output_type": "stream",
     "text": [
      "Index(['PassengerId', 'Survived', 'Pclass', 'Name', 'Sex', 'Age', 'SibSp',\n",
      "       'Parch', 'Ticket', 'Fare', 'Embarked'],\n",
      "      dtype='object')\n",
      "Index(['Survived', 'Pclass', 'Name', 'Sex', 'Age', 'SibSp', 'Parch', 'Fare',\n",
      "       'Embarked'],\n",
      "      dtype='object')\n"
     ]
    }
   ],
   "source": [
    "print(titanic.columns)\n",
    "titanic = titanic.drop(columns= ['PassengerId', 'Ticket'])\n",
    "print(titanic.columns)\n",
    "#dropping columns that are not important"
   ]
  }
 ],
 "metadata": {
  "kernelspec": {
   "display_name": "Python 3",
   "language": "python",
   "name": "python3"
  },
  "language_info": {
   "codemirror_mode": {
    "name": "ipython",
    "version": 3
   },
   "file_extension": ".py",
   "mimetype": "text/x-python",
   "name": "python",
   "nbconvert_exporter": "python",
   "pygments_lexer": "ipython3",
   "version": "3.13.3"
  }
 },
 "nbformat": 4,
 "nbformat_minor": 5
}
